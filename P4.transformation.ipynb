{
 "cells": [
  {
   "cell_type": "code",
   "execution_count": 0,
   "metadata": {
    "application/vnd.databricks.v1+cell": {
     "cellMetadata": {
      "byteLimit": 2048000,
      "rowLimit": 10000
     },
     "inputWidgets": {},
     "nuid": "f0e998dc-11f6-4a4b-9ba4-634eb22ddb69",
     "showTitle": false,
     "tableResultSettingsMap": {},
     "title": ""
    }
   },
   "outputs": [],
   "source": [
    "df1 = spark.read.csv(\"/FileStore/tables/raw/raw/raw/races.csv\",header=True, inferSchema=True)"
   ]
  },
  {
   "cell_type": "code",
   "execution_count": 0,
   "metadata": {
    "application/vnd.databricks.v1+cell": {
     "cellMetadata": {
      "byteLimit": 2048000,
      "rowLimit": 10000
     },
     "inputWidgets": {},
     "nuid": "397832f2-1c43-422b-960f-4cae018b5c24",
     "showTitle": false,
     "tableResultSettingsMap": {},
     "title": ""
    }
   },
   "outputs": [
    {
     "output_type": "stream",
     "name": "stdout",
     "output_type": "stream",
     "text": [
      "+------+----+-----+---------+---------------------+----------+--------+-------------------------------------------------------+\n|raceId|year|round|circuitId|name                 |date      |time    |url                                                    |\n+------+----+-----+---------+---------------------+----------+--------+-------------------------------------------------------+\n|1     |2009|1    |1        |Australian Grand Prix|2009-03-29|06:00:00|http://en.wikipedia.org/wiki/2009_Australian_Grand_Prix|\n|2     |2009|2    |2        |Malaysian Grand Prix |2009-04-05|09:00:00|http://en.wikipedia.org/wiki/2009_Malaysian_Grand_Prix |\n|3     |2009|3    |17       |Chinese Grand Prix   |2009-04-19|07:00:00|http://en.wikipedia.org/wiki/2009_Chinese_Grand_Prix   |\n|4     |2009|4    |3        |Bahrain Grand Prix   |2009-04-26|12:00:00|http://en.wikipedia.org/wiki/2009_Bahrain_Grand_Prix   |\n|5     |2009|5    |4        |Spanish Grand Prix   |2009-05-10|12:00:00|http://en.wikipedia.org/wiki/2009_Spanish_Grand_Prix   |\n|6     |2009|6    |6        |Monaco Grand Prix    |2009-05-24|12:00:00|http://en.wikipedia.org/wiki/2009_Monaco_Grand_Prix    |\n|7     |2009|7    |5        |Turkish Grand Prix   |2009-06-07|12:00:00|http://en.wikipedia.org/wiki/2009_Turkish_Grand_Prix   |\n|8     |2009|8    |9        |British Grand Prix   |2009-06-21|12:00:00|http://en.wikipedia.org/wiki/2009_British_Grand_Prix   |\n|9     |2009|9    |20       |German Grand Prix    |2009-07-12|12:00:00|http://en.wikipedia.org/wiki/2009_German_Grand_Prix    |\n|10    |2009|10   |11       |Hungarian Grand Prix |2009-07-26|12:00:00|http://en.wikipedia.org/wiki/2009_Hungarian_Grand_Prix |\n+------+----+-----+---------+---------------------+----------+--------+-------------------------------------------------------+\nonly showing top 10 rows\n\n"
     ]
    }
   ],
   "source": [
    "df1.show(10, truncate=False)"
   ]
  },
  {
   "cell_type": "code",
   "execution_count": 0,
   "metadata": {
    "application/vnd.databricks.v1+cell": {
     "cellMetadata": {
      "byteLimit": 2048000,
      "rowLimit": 10000
     },
     "inputWidgets": {},
     "nuid": "d052aa51-1eed-4f21-9a89-c598b4a97a17",
     "showTitle": false,
     "tableResultSettingsMap": {},
     "title": ""
    }
   },
   "outputs": [],
   "source": [
    "filtered_df = df1.filter(\"year = 2020\")"
   ]
  },
  {
   "cell_type": "code",
   "execution_count": 0,
   "metadata": {
    "application/vnd.databricks.v1+cell": {
     "cellMetadata": {
      "byteLimit": 2048000,
      "rowLimit": 10000
     },
     "inputWidgets": {},
     "nuid": "64d4af1c-748a-425d-97d6-06ecf331e1fb",
     "showTitle": false,
     "tableResultSettingsMap": {},
     "title": ""
    }
   },
   "outputs": [
    {
     "output_type": "stream",
     "name": "stdout",
     "output_type": "stream",
     "text": [
      "+------+----+-----+---------+--------------------+----------+--------+--------------------+\n|raceId|year|round|circuitId|                name|      date|    time|                 url|\n+------+----+-----+---------+--------------------+----------+--------+--------------------+\n|  1031|2020|    1|       70| Austrian Grand Prix|2020-07-05|13:10:00|https://en.wikipe...|\n|  1032|2020|    2|       70|  Styrian Grand Prix|2020-07-12|13:10:00|https://en.wikipe...|\n|  1033|2020|    3|       11|Hungarian Grand Prix|2020-07-19|13:10:00|https://en.wikipe...|\n|  1034|2020|    4|        9|  British Grand Prix|2020-08-02|13:10:00|https://en.wikipe...|\n|  1035|2020|    5|        9|70th Anniversary ...|2020-08-09|13:10:00|https://en.wikipe...|\n|  1036|2020|    6|        4|  Spanish Grand Prix|2020-08-16|13:10:00|https://en.wikipe...|\n|  1037|2020|    7|       13|  Belgian Grand Prix|2020-08-30|13:10:00|https://en.wikipe...|\n|  1038|2020|    8|       14|  Italian Grand Prix|2020-09-06|13:10:00|https://en.wikipe...|\n|  1039|2020|    9|       76|   Tuscan Grand Prix|2020-09-13|13:10:00|https://en.wikipe...|\n|  1040|2020|   10|       71|  Russian Grand Prix|2020-09-27|11:10:00|https://en.wikipe...|\n|  1041|2020|   11|       20|    Eifel Grand Prix|2020-10-11|13:10:00|https://en.wikipe...|\n|  1042|2020|   12|       75|Portuguese Grand ...|2020-10-25|12:10:00|https://en.wikipe...|\n|  1043|2020|   13|       21|Emilia Romagna Gr...|2020-11-01|12:10:00|https://en.wikipe...|\n|  1044|2020|   14|        5|  Turkish Grand Prix|2020-11-15|10:10:00|https://en.wikipe...|\n|  1045|2020|   15|        3|  Bahrain Grand Prix|2020-11-29|14:10:00|https://en.wikipe...|\n|  1046|2020|   16|        3|   Sakhir Grand Prix|2020-12-06|17:10:00|https://en.wikipe...|\n|  1047|2020|   17|       24|Abu Dhabi Grand Prix|2020-12-13|13:10:00|https://en.wikipe...|\n+------+----+-----+---------+--------------------+----------+--------+--------------------+\n\n"
     ]
    }
   ],
   "source": [
    "filtered_df.show()"
   ]
  },
  {
   "cell_type": "code",
   "execution_count": 0,
   "metadata": {
    "application/vnd.databricks.v1+cell": {
     "cellMetadata": {
      "byteLimit": 2048000,
      "rowLimit": 10000
     },
     "inputWidgets": {},
     "nuid": "39cd79eb-28f8-4de6-b521-7d1e4f58de93",
     "showTitle": false,
     "tableResultSettingsMap": {},
     "title": ""
    }
   },
   "outputs": [
    {
     "output_type": "stream",
     "name": "stdout",
     "output_type": "stream",
     "text": [
      "Out[7]: 17"
     ]
    }
   ],
   "source": [
    "filtered_df.count()"
   ]
  },
  {
   "cell_type": "code",
   "execution_count": 0,
   "metadata": {
    "application/vnd.databricks.v1+cell": {
     "cellMetadata": {
      "byteLimit": 2048000,
      "rowLimit": 10000
     },
     "inputWidgets": {},
     "nuid": "8d11ba27-faea-4f36-bd27-6177a65b4583",
     "showTitle": false,
     "tableResultSettingsMap": {},
     "title": ""
    }
   },
   "outputs": [],
   "source": [
    "filtered_df = df1.filter((\"year = 2020\") and (\"circuitId = 70 or round =9\"))"
   ]
  },
  {
   "cell_type": "code",
   "execution_count": 0,
   "metadata": {
    "application/vnd.databricks.v1+cell": {
     "cellMetadata": {
      "byteLimit": 2048000,
      "rowLimit": 10000
     },
     "inputWidgets": {},
     "nuid": "ac74107e-e41c-4847-870c-b6176e1e2ef1",
     "showTitle": false,
     "tableResultSettingsMap": {},
     "title": ""
    }
   },
   "outputs": [
    {
     "output_type": "stream",
     "name": "stdout",
     "output_type": "stream",
     "text": [
      "+------+----+-----+---------+--------------------+----------+--------+--------------------+\n|raceId|year|round|circuitId|                name|      date|    time|                 url|\n+------+----+-----+---------+--------------------+----------+--------+--------------------+\n|     9|2009|    9|       20|   German Grand Prix|2009-07-12|12:00:00|http://en.wikiped...|\n|    26|2008|    9|        9|  British Grand Prix|2008-07-06|12:00:00|http://en.wikiped...|\n|    44|2007|    9|        9|  British Grand Prix|2007-07-08|12:00:00|http://en.wikiped...|\n|    61|2006|    9|        7| Canadian Grand Prix|2006-06-25|13:00:00|http://en.wikiped...|\n|    79|2005|    9|       19|United States Gra...|2005-06-19|14:00:00|http://en.wikiped...|\n|    98|2004|    9|       19|United States Gra...|2004-06-20|      \\N|http://en.wikiped...|\n|   116|2003|    9|       20| European Grand Prix|2003-06-29|      \\N|http://en.wikiped...|\n|   132|2002|    9|       20| European Grand Prix|2002-06-23|      \\N|http://en.wikiped...|\n|   149|2001|    9|       20| European Grand Prix|2001-06-24|      \\N|http://en.wikiped...|\n|   166|2000|    9|        8|   French Grand Prix|2000-07-02|      \\N|http://en.wikiped...|\n|   183|1999|    9|       23| Austrian Grand Prix|1999-07-25|      \\N|http://en.wikiped...|\n|   199|1998|    9|        9|  British Grand Prix|1998-07-12|      \\N|http://en.wikiped...|\n|   215|1997|    9|        9|  British Grand Prix|1997-07-13|      \\N|http://en.wikiped...|\n|   232|1996|    9|        8|   French Grand Prix|1996-06-30|      \\N|http://en.wikiped...|\n|   248|1995|    9|       10|   German Grand Prix|1995-07-30|      \\N|http://en.wikiped...|\n|   265|1994|    9|       10|   German Grand Prix|1994-07-31|      \\N|http://en.wikiped...|\n|   281|1993|    9|        9|  British Grand Prix|1993-07-11|      \\N|http://en.wikiped...|\n|   297|1992|    9|        9|  British Grand Prix|1992-07-12|      \\N|http://en.wikiped...|\n|   313|1991|    9|       10|   German Grand Prix|1991-07-28|      \\N|http://en.wikiped...|\n|   329|1990|    9|       10|   German Grand Prix|1990-07-29|      \\N|http://en.wikiped...|\n+------+----+-----+---------+--------------------+----------+--------+--------------------+\nonly showing top 20 rows\n\n"
     ]
    }
   ],
   "source": [
    "filtered_df.show()\n"
   ]
  },
  {
   "cell_type": "code",
   "execution_count": 0,
   "metadata": {
    "application/vnd.databricks.v1+cell": {
     "cellMetadata": {
      "byteLimit": 2048000,
      "rowLimit": 10000
     },
     "inputWidgets": {},
     "nuid": "25535a0f-7bc9-487d-8909-7906e4ef336e",
     "showTitle": false,
     "tableResultSettingsMap": {},
     "title": ""
    }
   },
   "outputs": [],
   "source": [
    "# joins"
   ]
  },
  {
   "cell_type": "code",
   "execution_count": 0,
   "metadata": {
    "application/vnd.databricks.v1+cell": {
     "cellMetadata": {},
     "inputWidgets": {},
     "nuid": "17fe8655-ef8a-4fd7-8783-f8922fb635bf",
     "showTitle": false,
     "tableResultSettingsMap": {},
     "title": ""
    }
   },
   "outputs": [],
   "source": []
  }
 ],
 "metadata": {
  "application/vnd.databricks.v1+notebook": {
   "computePreferences": null,
   "dashboards": [],
   "environmentMetadata": {
    "base_environment": "",
    "environment_version": "1"
   },
   "inputWidgetPreferences": null,
   "language": "python",
   "notebookMetadata": {
    "pythonIndentUnit": 4
   },
   "notebookName": "P4.transformation",
   "widgets": {}
  },
  "language_info": {
   "name": "python"
  }
 },
 "nbformat": 4,
 "nbformat_minor": 0
}